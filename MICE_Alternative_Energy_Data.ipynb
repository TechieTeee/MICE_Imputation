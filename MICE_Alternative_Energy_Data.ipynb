{
  "nbformat": 4,
  "nbformat_minor": 0,
  "metadata": {
    "colab": {
      "provenance": []
    },
    "kernelspec": {
      "name": "python3",
      "display_name": "Python 3"
    },
    "language_info": {
      "name": "python"
    }
  },
  "cells": [
    {
      "cell_type": "markdown",
      "source": [
        "# **Multiple Imputation by Chained Equations on Alternative Energy Data**"
      ],
      "metadata": {
        "id": "jWZ-G-8bv8gj"
      }
    },
    {
      "cell_type": "code",
      "source": [
        "!pip install fancyimpute"
      ],
      "metadata": {
        "colab": {
          "base_uri": "https://localhost:8080/"
        },
        "id": "48EeHXCxwNK8",
        "outputId": "2369f9b7-0eab-42b7-f82c-d1180c0ae4e8"
      },
      "execution_count": 1,
      "outputs": [
        {
          "output_type": "stream",
          "name": "stdout",
          "text": [
            "Collecting fancyimpute\n",
            "  Downloading fancyimpute-0.7.0.tar.gz (25 kB)\n",
            "  Preparing metadata (setup.py) ... \u001b[?25l\u001b[?25hdone\n",
            "Collecting knnimpute>=0.1.0 (from fancyimpute)\n",
            "  Downloading knnimpute-0.1.0.tar.gz (8.3 kB)\n",
            "  Preparing metadata (setup.py) ... \u001b[?25l\u001b[?25hdone\n",
            "Requirement already satisfied: scikit-learn>=0.24.2 in /usr/local/lib/python3.10/dist-packages (from fancyimpute) (1.2.2)\n",
            "Requirement already satisfied: cvxpy in /usr/local/lib/python3.10/dist-packages (from fancyimpute) (1.3.2)\n",
            "Requirement already satisfied: cvxopt in /usr/local/lib/python3.10/dist-packages (from fancyimpute) (1.3.2)\n",
            "Requirement already satisfied: pytest in /usr/local/lib/python3.10/dist-packages (from fancyimpute) (7.4.0)\n",
            "Collecting nose (from fancyimpute)\n",
            "  Downloading nose-1.3.7-py3-none-any.whl (154 kB)\n",
            "\u001b[2K     \u001b[90m━━━━━━━━━━━━━━━━━━━━━━━━━━━━━━━━━━━━━━━\u001b[0m \u001b[32m154.7/154.7 kB\u001b[0m \u001b[31m5.4 MB/s\u001b[0m eta \u001b[36m0:00:00\u001b[0m\n",
            "\u001b[?25hRequirement already satisfied: six in /usr/local/lib/python3.10/dist-packages (from knnimpute>=0.1.0->fancyimpute) (1.16.0)\n",
            "Requirement already satisfied: numpy>=1.10 in /usr/local/lib/python3.10/dist-packages (from knnimpute>=0.1.0->fancyimpute) (1.23.5)\n",
            "Requirement already satisfied: scipy>=1.3.2 in /usr/local/lib/python3.10/dist-packages (from scikit-learn>=0.24.2->fancyimpute) (1.10.1)\n",
            "Requirement already satisfied: joblib>=1.1.1 in /usr/local/lib/python3.10/dist-packages (from scikit-learn>=0.24.2->fancyimpute) (1.3.2)\n",
            "Requirement already satisfied: threadpoolctl>=2.0.0 in /usr/local/lib/python3.10/dist-packages (from scikit-learn>=0.24.2->fancyimpute) (3.2.0)\n",
            "Requirement already satisfied: osqp>=0.4.1 in /usr/local/lib/python3.10/dist-packages (from cvxpy->fancyimpute) (0.6.2.post8)\n",
            "Requirement already satisfied: ecos>=2 in /usr/local/lib/python3.10/dist-packages (from cvxpy->fancyimpute) (2.0.12)\n",
            "Requirement already satisfied: scs>=1.1.6 in /usr/local/lib/python3.10/dist-packages (from cvxpy->fancyimpute) (3.2.3)\n",
            "Requirement already satisfied: setuptools>65.5.1 in /usr/local/lib/python3.10/dist-packages (from cvxpy->fancyimpute) (67.7.2)\n",
            "Requirement already satisfied: iniconfig in /usr/local/lib/python3.10/dist-packages (from pytest->fancyimpute) (2.0.0)\n",
            "Requirement already satisfied: packaging in /usr/local/lib/python3.10/dist-packages (from pytest->fancyimpute) (23.1)\n",
            "Requirement already satisfied: pluggy<2.0,>=0.12 in /usr/local/lib/python3.10/dist-packages (from pytest->fancyimpute) (1.2.0)\n",
            "Requirement already satisfied: exceptiongroup>=1.0.0rc8 in /usr/local/lib/python3.10/dist-packages (from pytest->fancyimpute) (1.1.2)\n",
            "Requirement already satisfied: tomli>=1.0.0 in /usr/local/lib/python3.10/dist-packages (from pytest->fancyimpute) (2.0.1)\n",
            "Requirement already satisfied: qdldl in /usr/local/lib/python3.10/dist-packages (from osqp>=0.4.1->cvxpy->fancyimpute) (0.1.7.post0)\n",
            "Building wheels for collected packages: fancyimpute, knnimpute\n",
            "  Building wheel for fancyimpute (setup.py) ... \u001b[?25l\u001b[?25hdone\n",
            "  Created wheel for fancyimpute: filename=fancyimpute-0.7.0-py3-none-any.whl size=29882 sha256=ef41c96c965ac3658466b003939efd364bc9db979d017add6e0c26002a255bc3\n",
            "  Stored in directory: /root/.cache/pip/wheels/7b/0c/d3/ee82d1fbdcc0858d96434af108608d01703505d453720c84ed\n",
            "  Building wheel for knnimpute (setup.py) ... \u001b[?25l\u001b[?25hdone\n",
            "  Created wheel for knnimpute: filename=knnimpute-0.1.0-py3-none-any.whl size=11330 sha256=d4ef772ac8594a7312b9e35c39ba10d6e1e421a3071c0f3c7ce55e60d28bdf9b\n",
            "  Stored in directory: /root/.cache/pip/wheels/46/06/a5/45a724630562413c374e29c08732411d496092408b3a7bf754\n",
            "Successfully built fancyimpute knnimpute\n",
            "Installing collected packages: nose, knnimpute, fancyimpute\n",
            "Successfully installed fancyimpute-0.7.0 knnimpute-0.1.0 nose-1.3.7\n"
          ]
        }
      ]
    },
    {
      "cell_type": "code",
      "source": [
        "import numpy as np\n",
        "import pandas as pd\n",
        "from fancyimpute import IterativeImputer"
      ],
      "metadata": {
        "id": "lTEPAbkKwQiN"
      },
      "execution_count": 2,
      "outputs": []
    },
    {
      "cell_type": "code",
      "source": [
        "# Create a sample dataset with missing values for alternative energy sources\n",
        "data = {\n",
        "    'Solar_Power': [np.nan, 120, 180, 90, 200, np.nan, 150, 250, 300],\n",
        "    'Wind_Energy': [300, 250, 180, np.nan, 200, 150, np.nan, 100, 120],\n",
        "    'Hydro_Power': [150, np.nan, 80, 90, 120, 180, 200, np.nan, 250],\n",
        "    'Bioenergy': [80, 100, 120, 90, np.nan, 150, 200, 250, np.nan],\n",
        "    'Geothermal': [200, 180, np.nan, 150, 120, 90, 100, 80, 60]\n",
        "}\n",
        "\n",
        "df = pd.DataFrame(data)\n",
        "\n",
        "# Instantiate the IterativeImputer\n",
        "imputer = IterativeImputer()\n",
        "\n",
        "# Perform MICE imputation\n",
        "imputed_data = imputer.fit_transform(df)\n",
        "\n",
        "# Convert the imputed data array back to a DataFrame\n",
        "imputed_df = pd.DataFrame(imputed_data, columns=df.columns)\n",
        "\n",
        "print(\"Original DataFrame:\")\n",
        "print(df)\n",
        "\n",
        "print(\"\\nImputed DataFrame:\")\n",
        "print(imputed_df)"
      ],
      "metadata": {
        "colab": {
          "base_uri": "https://localhost:8080/"
        },
        "id": "5GiLm3pawKUR",
        "outputId": "08783bef-8526-4c3b-cffb-1e6e89e2df72"
      },
      "execution_count": 4,
      "outputs": [
        {
          "output_type": "stream",
          "name": "stdout",
          "text": [
            "Original DataFrame:\n",
            "   Solar_Power  Wind_Energy  Hydro_Power  Bioenergy  Geothermal\n",
            "0          NaN        300.0        150.0       80.0       200.0\n",
            "1        120.0        250.0          NaN      100.0       180.0\n",
            "2        180.0        180.0         80.0      120.0         NaN\n",
            "3         90.0          NaN         90.0       90.0       150.0\n",
            "4        200.0        200.0        120.0        NaN       120.0\n",
            "5          NaN        150.0        180.0      150.0        90.0\n",
            "6        150.0          NaN        200.0      200.0       100.0\n",
            "7        250.0        100.0          NaN      250.0        80.0\n",
            "8        300.0        120.0        250.0        NaN        60.0\n",
            "\n",
            "Imputed DataFrame:\n",
            "   Solar_Power  Wind_Energy  Hydro_Power   Bioenergy  Geothermal\n",
            "0   114.190618   300.000000   150.000000   80.000000  200.000000\n",
            "1   120.000000   250.000000   121.039417  100.000000  180.000000\n",
            "2   180.000000   180.000000    80.000000  120.000000  118.589223\n",
            "3    90.000000   188.760456    90.000000   90.000000  150.000000\n",
            "4   200.000000   200.000000   120.000000  129.313411  120.000000\n",
            "5   185.474292   150.000000   180.000000  150.000000   90.000000\n",
            "6   150.000000    97.913888   200.000000  200.000000  100.000000\n",
            "7   250.000000   100.000000   213.322418  250.000000   80.000000\n",
            "8   300.000000   120.000000   250.000000  250.704330   60.000000\n"
          ]
        }
      ]
    }
  ]
}