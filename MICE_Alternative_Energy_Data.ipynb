{
  "nbformat": 4,
  "nbformat_minor": 0,
  "metadata": {
    "colab": {
      "provenance": []
    },
    "kernelspec": {
      "name": "python3",
      "display_name": "Python 3"
    },
    "language_info": {
      "name": "python"
    }
  },
  "cells": [
    {
      "cell_type": "markdown",
      "source": "# **Multiple Imputation by Chained Equations on Alternative Energy Data**"
    },
    {
      "cell_type": "code",
      "source": "!pip install fancyimpute",
      "metadata": {
        "colab": {
          "base_uri": "https://localhost:8080/"
        }
      }
    },
    {
      "cell_type": "code",
      "source": "import numpy as np\n"
                "import pandas as pd\n"
                "from fancyimpute import IterativeImputer"
    },
    {
      "cell_type": "code",
      "source": "# Define a function for imputation\n"
                "def perform_imputation(df):\n"
                "    imputer = IterativeImputer()\n"
                "    imputed_data = imputer.fit_transform(df)\n"
                "    imputed_df = pd.DataFrame(imputed_data, columns=df.columns)\n"
                "    return imputed_df"
    },
    {
      "cell_type": "code",
      "source": "# Creates the dataset for alternative energy sources with missing values\n"
                "data = {\n"
                "    'Solar_Power': [np.nan, 120, 180, 90, 200, np.nan, 150, 250, 300],\n"
                "    'Wind_Energy': [300, 250, 180, np.nan, 200, 150, np.nan, 100, 120],\n"
                "    'Hydro_Power': [150, np.nan, 80, 90, 120, 180, 200, np.nan, 250],\n"
                "    'Bioenergy': [80, 100, 120, 90, np.nan, 150, 200, 250, np.nan],\n"
                "    'Geothermal': [200, 180, np.nan, 150, 120, 90, 100, 80, 60]\n"
                "}\n"
                "\n"
                "df = pd.DataFrame(data)\n"
    },
    {
      "cell_type": "code",
      "source": "# Perform MICE imputation\n"
                "imputed_df = perform_imputation(df)\n"
                "\n"
                "# Display original and imputed dataframes\n"
                "df, imputed_df"
    }
  ]
}

